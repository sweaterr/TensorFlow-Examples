{
 "cells": [
  {
   "cell_type": "code",
   "execution_count": 1,
   "metadata": {
    "collapsed": true
   },
   "outputs": [],
   "source": [
    "import tensorflow as tf\n",
    "import os\n",
    "os.chdir(\"/Users/sweaterr/PycharmProjects/TF-recomm\")\n",
    "import dataio\n",
    "import numpy as np\n",
    "from collections import deque\n",
    "from six import next\n",
    "\n",
    "np.random.seed(13575)\n",
    "\n",
    "BATCH_SIZE = 1000\n",
    "USER_NUM = 6040\n",
    "ITEM_NUM = 3952\n",
    "DIM = 15\n",
    "EPOCH_MAX = 100\n",
    "DEVICE = \"/cpu:0\"\n",
    "\n",
    "import time\n",
    "def get_data():\n",
    "    df = dataio.read_process(\"/tmp/movielens/ml-1m/ratings.dat\", sep=\"::\")\n",
    "    rows = len(df)\n",
    "    df = df.iloc[np.random.permutation(rows)].reset_index(drop=True)\n",
    "    split_index = int(rows * 0.9)\n",
    "    df_train = df[0:split_index]\n",
    "    df_test = df[split_index:].reset_index(drop=True)\n",
    "    return df_train, df_test"
   ]
  },
  {
   "cell_type": "code",
   "execution_count": 2,
   "metadata": {},
   "outputs": [],
   "source": [
    "df_train, df_test = get_data()"
   ]
  },
  {
   "cell_type": "code",
   "execution_count": 4,
   "metadata": {},
   "outputs": [
    {
     "name": "stdout",
     "output_type": "stream",
     "text": [
      "<bound method DataFrame.first of         user  item  rate          st\n0       1893  1692   4.0   974695176\n1       5947  2312   4.0   957190990\n2        162   365   2.0   977323187\n3       5117   456   3.0   962294766\n4       2029   315   1.0   974929369\n5       2220  1844   5.0   974603135\n6       4385  3385   3.0   965172804\n7       5779   282   4.0   958156569\n8       3617  3740   2.0   966600773\n9       3640   584   4.0   966482594\n10       515   110   4.0   976205508\n11      5138   160   3.0   962060976\n12      3032  1290   5.0   970291018\n13       521  1199   3.0   976196943\n14      3409  1273   5.0   967416389\n15      3733  2430   5.0   966194170\n16        76  2540   2.0   977813753\n17      1299  1320   5.0   974786901\n18      5874  3750   4.0   965274403\n19      5538   925   5.0   986573601\n20      3361   140   4.0   967672860\n21      3649   378   4.0   966460630\n22      1828  1196   3.0   974696861\n23      4276  2659   5.0   983696191\n24      5538  2301   4.0  1027814481\n25      5554   552   5.0   959648977\n26      1604    18   2.0   975383005\n27      1183  2247   4.0   974852578\n28      4039  2018   5.0   965504149\n29      4883  1966   3.0   962746447\n...      ...   ...   ...         ...\n900158  5949  1306   3.0   957181473\n900159  4992  1087   4.0   962594434\n900160  2206  3896   4.0   974603104\n900161  1198   349   4.0   974847916\n900162  6015  2794   3.0   956780757\n900163  3719   363   3.0   966253320\n900164  4017   291   4.0   965528519\n900165  4465  2021   4.0   965070532\n900166  3282  3697   3.0   968122571\n900167  4815   523   5.0   966526595\n900168  5885  1579   4.0   957485695\n900169  2210  1632   4.0   974605506\n900170  2452  1212   5.0   974189331\n900171  5861  1135   5.0   957672690\n900172  5624  2790   4.0   959088950\n900173  5654  1783   4.0   958843916\n900174   148  3727   4.0   993154501\n900175  4489  3601   3.0   965009362\n900176   139  1220   5.0   993950520\n900177  5581  3340   5.0   959282034\n900178  4446  1335   2.0   965256135\n900179  5949  3506   4.0   957182426\n900180  4646  2962   4.0   984287092\n900181  3807  1946   2.0   965970632\n900182  1330  3385   4.0   974953684\n900183  4971  2570   4.0   962607373\n900184  2115  3004   4.0   974760264\n900185  3756  1967   5.0   966096999\n900186  5794  3081   1.0   958144283\n900187  5861   479   4.0   957670444\n\n[900188 rows x 4 columns]>\n"
     ]
    }
   ],
   "source": [
    "print(df_train.first)"
   ]
  },
  {
   "cell_type": "code",
   "execution_count": 5,
   "metadata": {},
   "outputs": [],
   "source": [
    "train = df_train\n",
    "test = df_test\n",
    "samples_per_batch = len(train) // BATCH_SIZE\n",
    "\n",
    "iter_train = dataio.ShuffleIterator([train[\"user\"],\n",
    "                                     train[\"item\"],\n",
    "                                     train[\"rate\"]],\n",
    "                                    batch_size=BATCH_SIZE)\n",
    "\n",
    "iter_test = dataio.OneEpochIterator([test[\"user\"],\n",
    "                                     test[\"item\"],\n",
    "                                     test[\"rate\"]],\n",
    "                                    batch_size=-1)\n",
    "\n",
    "user_batch = tf.placeholder(tf.int32, shape=[None], name=\"id_user\")\n",
    "item_batch = tf.placeholder(tf.int32, shape=[None], name=\"id_item\")\n",
    "rate_batch = tf.placeholder(tf.float32, shape=[None])"
   ]
  },
  {
   "cell_type": "code",
   "execution_count": 6,
   "metadata": {},
   "outputs": [],
   "source": [
    "def inference_svd(user_batch, item_batch, user_num, item_num, dim=5, device=\"/cpu:0\"):\n",
    "    with tf.device(\"/cpu:0\"):\n",
    "        bias_global = tf.get_variable(\"bias_global\", shape=[])\n",
    "        w_bias_user = tf.get_variable(\"embd_bias_user\", shape=[user_num])\n",
    "        w_bias_item = tf.get_variable(\"embd_bias_item\", shape=[item_num])\n",
    "        bias_user = tf.nn.embedding_lookup(w_bias_user, user_batch, name=\"bias_user\")\n",
    "        bias_item = tf.nn.embedding_lookup(w_bias_item, item_batch, name=\"bias_item\")\n",
    "        w_user = tf.get_variable(\"embd_user\", shape=[user_num, dim],\n",
    "                                 initializer=tf.truncated_normal_initializer(stddev=0.02))\n",
    "        w_item = tf.get_variable(\"embd_item\", shape=[item_num, dim],\n",
    "                                 initializer=tf.truncated_normal_initializer(stddev=0.02))\n",
    "        embd_user = tf.nn.embedding_lookup(w_user, user_batch, name=\"embedding_user\")\n",
    "        embd_item = tf.nn.embedding_lookup(w_item, item_batch, name=\"embedding_item\")\n",
    "    with tf.device(device):\n",
    "        infer = tf.reduce_sum(tf.mul(embd_user, embd_item), 1)\n",
    "        infer = tf.add(infer, bias_global)\n",
    "        infer = tf.add(infer, bias_user)\n",
    "        infer = tf.add(infer, bias_item, name=\"svd_inference\")\n",
    "        regularizer = tf.add(tf.nn.l2_loss(embd_user), tf.nn.l2_loss(embd_item), name=\"svd_regularizer\")\n",
    "    return infer, regularizer\n",
    "\n",
    "\n",
    "def optimiaztion(infer, regularizer, rate_batch, learning_rate=0.001, reg=0.1, device=\"/cpu:0\"):\n",
    "    with tf.device(device):\n",
    "        cost_l2 = tf.nn.l2_loss(tf.sub(infer, rate_batch))\n",
    "        panelty = tf.constant(reg, dtype=tf.float32, shape=[], name=\"l2\")\n",
    "        cost = tf.add(cost_l2, tf.mul(regularizer, panelty))\n",
    "        train_op = tf.train.AdamOptimizer(learning_rate).minimize(cost)\n",
    "    return cost, train_op"
   ]
  },
  {
   "cell_type": "code",
   "execution_count": 7,
   "metadata": {},
   "outputs": [],
   "source": [
    "infer, regularizer = inference_svd(user_batch, item_batch, user_num=USER_NUM, item_num=ITEM_NUM, dim=DIM,device=DEVICE)"
   ]
  },
  {
   "cell_type": "code",
   "execution_count": 10,
   "metadata": {},
   "outputs": [],
   "source": [
    "_, train_op = optimiaztion(infer, regularizer, rate_batch, learning_rate=0.001, reg=0.05, device=DEVICE)"
   ]
  },
  {
   "cell_type": "code",
   "execution_count": 14,
   "metadata": {},
   "outputs": [],
   "source": [
    "init_op = tf.initialize_all_variables()"
   ]
  },
  {
   "cell_type": "code",
   "execution_count": 16,
   "metadata": {},
   "outputs": [
    {
     "name": "stdout",
     "output_type": "stream",
     "text": [
      "epoch train_error val_error elapsed_time\n  0 2.750929 2.808489 0.042135(s)\n"
     ]
    },
    {
     "name": "stdout",
     "output_type": "stream",
     "text": [
      "  1 2.392757 1.593639 2.804247(s)\n"
     ]
    },
    {
     "name": "stdout",
     "output_type": "stream",
     "text": [
      "  2 1.295163 1.120907 3.156988(s)\n"
     ]
    },
    {
     "name": "stdout",
     "output_type": "stream",
     "text": [
      "  3 1.043279 1.003782 2.875520(s)\n"
     ]
    },
    {
     "name": "stdout",
     "output_type": "stream",
     "text": [
      "  4 0.973007 0.966610 2.865396(s)\n"
     ]
    },
    {
     "name": "stdout",
     "output_type": "stream",
     "text": [
      "  5 0.949090 0.951925 2.832754(s)\n"
     ]
    },
    {
     "name": "stdout",
     "output_type": "stream",
     "text": [
      "  6 0.938572 0.944010 2.790420(s)\n"
     ]
    },
    {
     "name": "stdout",
     "output_type": "stream",
     "text": [
      "  7 0.932506 0.939473 2.912340(s)\n"
     ]
    },
    {
     "name": "stdout",
     "output_type": "stream",
     "text": [
      "  8 0.926861 0.935612 2.941052(s)\n"
     ]
    },
    {
     "name": "stdout",
     "output_type": "stream",
     "text": [
      "  9 0.924736 0.933764 2.816258(s)\n"
     ]
    },
    {
     "name": "stdout",
     "output_type": "stream",
     "text": [
      " 10 0.921685 0.930834 2.858970(s)\n"
     ]
    },
    {
     "name": "stdout",
     "output_type": "stream",
     "text": [
      " 11 0.919263 0.927844 2.819722(s)\n"
     ]
    },
    {
     "name": "stdout",
     "output_type": "stream",
     "text": [
      " 12 0.914427 0.924231 2.851686(s)\n"
     ]
    },
    {
     "name": "stdout",
     "output_type": "stream",
     "text": [
      " 13 0.909600 0.920653 2.851846(s)\n"
     ]
    },
    {
     "name": "stdout",
     "output_type": "stream",
     "text": [
      " 14 0.906170 0.915703 3.031541(s)\n"
     ]
    },
    {
     "name": "stdout",
     "output_type": "stream",
     "text": [
      " 15 0.899097 0.911714 3.325228(s)\n"
     ]
    },
    {
     "name": "stdout",
     "output_type": "stream",
     "text": [
      " 16 0.893975 0.907230 3.381106(s)\n"
     ]
    },
    {
     "name": "stdout",
     "output_type": "stream",
     "text": [
      " 17 0.890003 0.903642 3.385030(s)\n"
     ]
    },
    {
     "name": "stdout",
     "output_type": "stream",
     "text": [
      " 18 0.884446 0.900158 2.985412(s)\n"
     ]
    },
    {
     "name": "stdout",
     "output_type": "stream",
     "text": [
      " 19 0.880148 0.897024 3.202554(s)\n"
     ]
    },
    {
     "name": "stdout",
     "output_type": "stream",
     "text": [
      " 20 0.875763 0.894310 3.459687(s)\n"
     ]
    },
    {
     "name": "stdout",
     "output_type": "stream",
     "text": [
      " 21 0.871165 0.890725 3.005499(s)\n"
     ]
    },
    {
     "name": "stdout",
     "output_type": "stream",
     "text": [
      " 22 0.866267 0.887871 2.774388(s)\n"
     ]
    },
    {
     "name": "stdout",
     "output_type": "stream",
     "text": [
      " 23 0.862605 0.884098 2.820320(s)\n"
     ]
    },
    {
     "name": "stdout",
     "output_type": "stream",
     "text": [
      " 24 0.854612 0.881228 2.943208(s)\n"
     ]
    },
    {
     "name": "stdout",
     "output_type": "stream",
     "text": [
      " 25 0.850481 0.877738 3.120777(s)\n"
     ]
    },
    {
     "name": "stdout",
     "output_type": "stream",
     "text": [
      " 26 0.844719 0.874508 2.887946(s)\n"
     ]
    },
    {
     "name": "stdout",
     "output_type": "stream",
     "text": [
      " 27 0.840553 0.871964 3.230954(s)\n"
     ]
    },
    {
     "name": "stdout",
     "output_type": "stream",
     "text": [
      " 28 0.834767 0.868973 3.232065(s)\n"
     ]
    },
    {
     "name": "stdout",
     "output_type": "stream",
     "text": [
      " 29 0.828570 0.865896 3.373367(s)\n"
     ]
    },
    {
     "name": "stdout",
     "output_type": "stream",
     "text": [
      " 30 0.824304 0.863891 2.992586(s)\n"
     ]
    },
    {
     "name": "stdout",
     "output_type": "stream",
     "text": [
      " 31 0.819710 0.861975 2.794684(s)\n"
     ]
    },
    {
     "name": "stdout",
     "output_type": "stream",
     "text": [
      " 32 0.815083 0.859797 3.246930(s)\n"
     ]
    },
    {
     "name": "stdout",
     "output_type": "stream",
     "text": [
      " 33 0.810191 0.858379 3.087175(s)\n"
     ]
    },
    {
     "name": "stdout",
     "output_type": "stream",
     "text": [
      " 34 0.805083 0.856913 2.983240(s)\n"
     ]
    },
    {
     "name": "stdout",
     "output_type": "stream",
     "text": [
      " 35 0.801635 0.855988 2.810281(s)\n"
     ]
    },
    {
     "name": "stdout",
     "output_type": "stream",
     "text": [
      " 36 0.797722 0.854614 3.107162(s)\n"
     ]
    },
    {
     "name": "stdout",
     "output_type": "stream",
     "text": [
      " 37 0.793769 0.853767 3.186988(s)\n"
     ]
    },
    {
     "name": "stdout",
     "output_type": "stream",
     "text": [
      " 38 0.791471 0.852962 3.221489(s)\n"
     ]
    },
    {
     "name": "stdout",
     "output_type": "stream",
     "text": [
      " 39 0.786951 0.852427 3.010188(s)\n"
     ]
    },
    {
     "name": "stdout",
     "output_type": "stream",
     "text": [
      " 40 0.783443 0.851690 3.111211(s)\n"
     ]
    },
    {
     "name": "stdout",
     "output_type": "stream",
     "text": [
      " 41 0.782623 0.851063 3.112257(s)\n"
     ]
    },
    {
     "name": "stdout",
     "output_type": "stream",
     "text": [
      " 42 0.777292 0.850991 2.972740(s)\n"
     ]
    },
    {
     "name": "stdout",
     "output_type": "stream",
     "text": [
      " 43 0.776155 0.850644 3.199054(s)\n"
     ]
    },
    {
     "name": "stdout",
     "output_type": "stream",
     "text": [
      " 44 0.773689 0.850325 2.961411(s)\n"
     ]
    },
    {
     "name": "stdout",
     "output_type": "stream",
     "text": [
      " 45 0.771790 0.850546 2.732660(s)\n"
     ]
    },
    {
     "name": "stdout",
     "output_type": "stream",
     "text": [
      " 46 0.769457 0.850368 2.862627(s)\n"
     ]
    },
    {
     "name": "stdout",
     "output_type": "stream",
     "text": [
      " 47 0.768457 0.850764 2.852869(s)\n"
     ]
    },
    {
     "name": "stdout",
     "output_type": "stream",
     "text": [
      " 48 0.767026 0.850498 2.883381(s)\n"
     ]
    },
    {
     "name": "stdout",
     "output_type": "stream",
     "text": [
      " 49 0.765974 0.850021 2.988509(s)\n"
     ]
    },
    {
     "name": "stdout",
     "output_type": "stream",
     "text": [
      " 50 0.762757 0.849993 3.296206(s)\n"
     ]
    },
    {
     "name": "stdout",
     "output_type": "stream",
     "text": [
      " 51 0.763582 0.850043 3.017561(s)\n"
     ]
    },
    {
     "name": "stdout",
     "output_type": "stream",
     "text": [
      " 52 0.759786 0.850300 3.118379(s)\n"
     ]
    },
    {
     "name": "stdout",
     "output_type": "stream",
     "text": [
      " 53 0.760361 0.850594 2.984945(s)\n"
     ]
    },
    {
     "name": "stdout",
     "output_type": "stream",
     "text": [
      " 54 0.760191 0.850387 3.105119(s)\n"
     ]
    },
    {
     "name": "stdout",
     "output_type": "stream",
     "text": [
      " 55 0.757535 0.850542 2.955032(s)\n"
     ]
    },
    {
     "name": "stdout",
     "output_type": "stream",
     "text": [
      " 56 0.758480 0.849947 3.001484(s)\n"
     ]
    },
    {
     "name": "stdout",
     "output_type": "stream",
     "text": [
      " 57 0.757258 0.850322 2.898693(s)\n"
     ]
    },
    {
     "name": "stdout",
     "output_type": "stream",
     "text": [
      " 58 0.757459 0.850100 2.738280(s)\n"
     ]
    },
    {
     "name": "stdout",
     "output_type": "stream",
     "text": [
      " 59 0.754655 0.850306 2.775728(s)\n"
     ]
    },
    {
     "name": "stdout",
     "output_type": "stream",
     "text": [
      " 60 0.754919 0.850397 2.993973(s)\n"
     ]
    },
    {
     "name": "stdout",
     "output_type": "stream",
     "text": [
      " 61 0.754648 0.850198 3.279388(s)\n"
     ]
    },
    {
     "name": "stdout",
     "output_type": "stream",
     "text": [
      " 62 0.753412 0.850481 3.250277(s)\n"
     ]
    },
    {
     "name": "stdout",
     "output_type": "stream",
     "text": [
      " 63 0.755543 0.850802 2.945834(s)\n"
     ]
    },
    {
     "name": "stdout",
     "output_type": "stream",
     "text": [
      " 64 0.753325 0.850581 2.794458(s)\n"
     ]
    },
    {
     "name": "stdout",
     "output_type": "stream",
     "text": [
      " 65 0.752627 0.850752 2.874487(s)\n"
     ]
    },
    {
     "name": "stdout",
     "output_type": "stream",
     "text": [
      " 66 0.752809 0.850512 2.797553(s)\n"
     ]
    },
    {
     "name": "stdout",
     "output_type": "stream",
     "text": [
      " 67 0.753122 0.850619 2.845801(s)\n"
     ]
    },
    {
     "name": "stdout",
     "output_type": "stream",
     "text": [
      " 68 0.752085 0.850374 2.797071(s)\n"
     ]
    },
    {
     "name": "stdout",
     "output_type": "stream",
     "text": [
      " 69 0.752312 0.850558 2.891723(s)\n"
     ]
    },
    {
     "name": "stdout",
     "output_type": "stream",
     "text": [
      " 70 0.751104 0.850246 2.759296(s)\n"
     ]
    },
    {
     "name": "stdout",
     "output_type": "stream",
     "text": [
      " 71 0.750661 0.850155 2.813679(s)\n"
     ]
    },
    {
     "name": "stdout",
     "output_type": "stream",
     "text": [
      " 72 0.750167 0.850240 2.874317(s)\n"
     ]
    },
    {
     "name": "stdout",
     "output_type": "stream",
     "text": [
      " 73 0.750473 0.850259 2.819639(s)\n"
     ]
    },
    {
     "name": "stdout",
     "output_type": "stream",
     "text": [
      " 74 0.750394 0.850517 2.761451(s)\n"
     ]
    },
    {
     "name": "stdout",
     "output_type": "stream",
     "text": [
      " 75 0.749670 0.850407 2.898341(s)\n"
     ]
    },
    {
     "name": "stdout",
     "output_type": "stream",
     "text": [
      " 76 0.750262 0.850588 2.823478(s)\n"
     ]
    },
    {
     "name": "stdout",
     "output_type": "stream",
     "text": [
      " 77 0.750184 0.850718 2.891350(s)\n"
     ]
    },
    {
     "name": "stdout",
     "output_type": "stream",
     "text": [
      " 78 0.748674 0.850629 2.843940(s)\n"
     ]
    },
    {
     "name": "stdout",
     "output_type": "stream",
     "text": [
      " 79 0.749167 0.850766 2.809509(s)\n"
     ]
    },
    {
     "name": "stdout",
     "output_type": "stream",
     "text": [
      " 80 0.749397 0.850962 2.907408(s)\n"
     ]
    },
    {
     "name": "stdout",
     "output_type": "stream",
     "text": [
      " 81 0.749253 0.850777 2.953213(s)\n"
     ]
    },
    {
     "name": "stdout",
     "output_type": "stream",
     "text": [
      " 82 0.748503 0.851019 2.831474(s)\n"
     ]
    },
    {
     "name": "stdout",
     "output_type": "stream",
     "text": [
      " 83 0.749512 0.850952 3.138992(s)\n"
     ]
    },
    {
     "name": "stdout",
     "output_type": "stream",
     "text": [
      " 84 0.749581 0.851054 3.044079(s)\n"
     ]
    },
    {
     "name": "stdout",
     "output_type": "stream",
     "text": [
      " 85 0.748381 0.851004 2.800919(s)\n"
     ]
    },
    {
     "name": "stdout",
     "output_type": "stream",
     "text": [
      " 86 0.748768 0.850711 2.812873(s)\n"
     ]
    },
    {
     "name": "stdout",
     "output_type": "stream",
     "text": [
      " 87 0.747818 0.850829 2.808074(s)\n"
     ]
    },
    {
     "name": "stdout",
     "output_type": "stream",
     "text": [
      " 88 0.746986 0.850675 2.774953(s)\n"
     ]
    },
    {
     "name": "stdout",
     "output_type": "stream",
     "text": [
      " 89 0.747092 0.851005 2.889211(s)\n"
     ]
    },
    {
     "name": "stdout",
     "output_type": "stream",
     "text": [
      " 90 0.747351 0.850725 2.813415(s)\n"
     ]
    },
    {
     "name": "stdout",
     "output_type": "stream",
     "text": [
      " 91 0.747962 0.850796 2.906871(s)\n"
     ]
    },
    {
     "name": "stdout",
     "output_type": "stream",
     "text": [
      " 92 0.748919 0.850743 2.872600(s)\n"
     ]
    },
    {
     "name": "stdout",
     "output_type": "stream",
     "text": [
      " 93 0.747552 0.850851 2.834741(s)\n"
     ]
    },
    {
     "name": "stdout",
     "output_type": "stream",
     "text": [
      " 94 0.748066 0.850615 2.824153(s)\n"
     ]
    },
    {
     "name": "stdout",
     "output_type": "stream",
     "text": [
      " 95 0.746216 0.850498 2.959233(s)\n"
     ]
    },
    {
     "name": "stdout",
     "output_type": "stream",
     "text": [
      " 96 0.746390 0.850617 3.253878(s)\n"
     ]
    },
    {
     "name": "stdout",
     "output_type": "stream",
     "text": [
      " 97 0.748425 0.850655 3.144680(s)\n"
     ]
    },
    {
     "name": "stdout",
     "output_type": "stream",
     "text": [
      " 98 0.747552 0.850696 3.139214(s)\n"
     ]
    },
    {
     "name": "stdout",
     "output_type": "stream",
     "text": [
      " 99 0.746431 0.850440 2.808393(s)\n"
     ]
    },
    {
     "name": "stderr",
     "output_type": "stream",
     "text": [
      "WARNING:tensorflow:Passing a `GraphDef` to the SummaryWriter is deprecated. Pass a `Graph` object instead, such as `sess.graph`.\n"
     ]
    }
   ],
   "source": [
    "def clip(x):\n",
    "    return np.clip(x, 1.0, 5.0)\n",
    "\n",
    "with tf.Session() as sess:\n",
    "    sess.run(init_op)\n",
    "    print(\"{} {} {} {}\".format(\"epoch\", \"train_error\", \"val_error\", \"elapsed_time\"))\n",
    "    errors = deque(maxlen=samples_per_batch)\n",
    "    start = time.time()\n",
    "    for i in range(EPOCH_MAX * samples_per_batch):\n",
    "        users, items, rates = next(iter_train)\n",
    "        _, pred_batch = sess.run([train_op, infer], feed_dict={user_batch: users,\n",
    "                                                               item_batch: items,\n",
    "                                                               rate_batch: rates})\n",
    "        pred_batch = clip(pred_batch)\n",
    "        errors.append(np.power(pred_batch - rates, 2))\n",
    "        if i % samples_per_batch == 0:\n",
    "            train_err = np.sqrt(np.mean(errors))\n",
    "            test_err2 = np.array([])\n",
    "            for users, items, rates in iter_test:\n",
    "                pred_batch = sess.run(infer, feed_dict={user_batch: users,\n",
    "                                                        item_batch: items})\n",
    "                pred_batch = clip(pred_batch)\n",
    "                test_err2 = np.append(test_err2, np.power(pred_batch - rates, 2))\n",
    "            end = time.time()\n",
    "            print(\"{:3d} {:f} {:f} {:f}(s)\".format(i // samples_per_batch, train_err, np.sqrt(np.mean(test_err2)),\n",
    "                                                   end - start))\n",
    "            start = end"
   ]
  },
  {
   "cell_type": "code",
   "execution_count": null,
   "metadata": {},
   "outputs": [],
   "source": [
    ""
   ]
  }
 ],
 "metadata": {
  "kernelspec": {
   "display_name": "Python 2",
   "language": "python",
   "name": "python2"
  },
  "language_info": {
   "codemirror_mode": {
    "name": "ipython",
    "version": 2.0
   },
   "file_extension": ".py",
   "mimetype": "text/x-python",
   "name": "python",
   "nbconvert_exporter": "python",
   "pygments_lexer": "ipython2",
   "version": "2.7.6"
  }
 },
 "nbformat": 4,
 "nbformat_minor": 0
}